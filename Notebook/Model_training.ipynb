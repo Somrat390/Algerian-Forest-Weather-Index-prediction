{
 "cells": [
  {
   "cell_type": "code",
   "execution_count": 1,
   "id": "e25aebcc-ba3a-49c5-8086-d38d09375cae",
   "metadata": {},
   "outputs": [],
   "source": [
    "import numpy as np\n",
    "import matplotlib.pyplot as plt\n",
    "import pandas as pd\n",
    "import seaborn as sns\n",
    "%matplotlib inline"
   ]
  },
  {
   "cell_type": "code",
   "execution_count": 2,
   "id": "4a6e8c90-3f12-4b61-9bc0-acd34c5eb2d4",
   "metadata": {},
   "outputs": [],
   "source": [
    "data = pd.read_csv('Algerian_Forest_Fires_cleaned_dataset.csv')"
   ]
  },
  {
   "cell_type": "code",
   "execution_count": 3,
   "id": "6aed1225-28f9-4f68-9c22-bcf4b7fd5294",
   "metadata": {},
   "outputs": [],
   "source": [
    "data = data.drop(['day','month','year'],axis = 1)"
   ]
  },
  {
   "cell_type": "code",
   "execution_count": 4,
   "id": "04867eda-9c3b-42ae-be38-ae3a3f43476b",
   "metadata": {},
   "outputs": [],
   "source": [
    "data['Classes'] = np.where(data['Classes'].str.contains('not fire'),0,1)"
   ]
  },
  {
   "cell_type": "code",
   "execution_count": 5,
   "id": "2f66c7f3-fac2-4e67-9ee9-79bf8df8777b",
   "metadata": {},
   "outputs": [],
   "source": [
    "X = data.drop('FWI',axis = 1)\n",
    "Y = data['FWI']"
   ]
  },
  {
   "cell_type": "code",
   "execution_count": 6,
   "id": "40b430fa-4693-4c2f-b185-0876b382428e",
   "metadata": {},
   "outputs": [],
   "source": [
    "from sklearn.model_selection import train_test_split\n",
    "X_train,X_test,y_train,y_test = train_test_split(X,Y,test_size = 0.25,random_state = 42) "
   ]
  },
  {
   "cell_type": "code",
   "execution_count": 7,
   "id": "e9432505-7fdd-419b-bb36-8e893b35cf3e",
   "metadata": {},
   "outputs": [],
   "source": [
    "def correlation(dataset,threshold):\n",
    "    col_corr = set()\n",
    "    corr_matrix = dataset.corr()\n",
    "    for i in range(len(corr_matrix.columns)):\n",
    "        for j in range(i):\n",
    "            if abs(corr_matrix.iloc[i,j]) > threshold:\n",
    "                colname = corr_matrix.columns[i]\n",
    "                col_corr.add(colname)\n",
    "    return col_corr"
   ]
  },
  {
   "cell_type": "code",
   "execution_count": 8,
   "id": "fd43907a-809a-4175-a1e0-dc60f292d569",
   "metadata": {},
   "outputs": [],
   "source": [
    "corr_features = correlation(X_train,0.85)"
   ]
  },
  {
   "cell_type": "code",
   "execution_count": 9,
   "id": "2b9637ab-5ccb-46ee-8900-9be10acc50d6",
   "metadata": {},
   "outputs": [],
   "source": [
    "X_train.drop(corr_features,axis = 1, inplace = True)\n",
    "X_test.drop(corr_features,axis = 1, inplace = True)"
   ]
  },
  {
   "cell_type": "code",
   "execution_count": 10,
   "id": "48bf3689-91f1-4717-8d14-f92ea5a5123e",
   "metadata": {},
   "outputs": [],
   "source": [
    "from sklearn.preprocessing import StandardScaler\n",
    "scaler = StandardScaler()\n",
    "X_train_scaled = scaler.fit_transform(X_train)\n",
    "X_test_scaled = scaler.transform(X_test)"
   ]
  },
  {
   "cell_type": "code",
   "execution_count": 11,
   "id": "a6c5b848-08cd-46b7-b36a-b713f753b900",
   "metadata": {},
   "outputs": [
    {
     "name": "stdout",
     "output_type": "stream",
     "text": [
      "Mean absolute erro 0.5642305340105683\n",
      "R2 Score 0.9842993364555513\n"
     ]
    },
    {
     "data": {
      "image/png": "[encoded data removed]",
      "text/plain": [
       "<Figure size 640x480 with 1 Axes>"
      ]
     },
     "metadata": {},
     "output_type": "display_data"
    }
   ],
   "source": [
    "from sklearn.linear_model import Ridge\n",
    "from sklearn.metrics import mean_absolute_error\n",
    "from sklearn.metrics import r2_score\n",
    "Ridgereg = Ridge()\n",
    "Ridgereg.fit(X_train_scaled,y_train)\n",
    "y_pred = Ridgereg.predict(X_test_scaled)\n",
    "mae = mean_absolute_error(y_test,y_pred)\n",
    "score = r2_score(y_test,y_pred)\n",
    "print('Mean absolute erro', mae)\n",
    "print('R2 Score',score)\n",
    "plt.scatter(y_test,y_pred)\n",
    "plt.show()"
   ]
  },
  {
   "cell_type": "code",
   "execution_count": null,
   "id": "6dbf39ed-f78f-4a32-8506-f0e6eea1b0ea",
   "metadata": {},
   "outputs": [],
   "source": [
    "import pickle\n",
    "pickle.dump(scaler,open('scaler.pkl','wb'))\n",
    "pickle.dump(Ridgeregopen('ridge.pkl','wb')"
   ]
  }
 ],
 "metadata": {
  "kernelspec": {
   "display_name": "Python 3 (ipykernel)",
   "language": "python",
   "name": "python3"
  },
  "language_info": {
   "codemirror_mode": {
    "name": "ipython",
    "version": 3
   },
   "file_extension": ".py",
   "mimetype": "text/x-python",
   "name": "python",
   "nbconvert_exporter": "python",
   "pygments_lexer": "ipython3",
   "version": "3.12.7"
  }
 },
 "nbformat": 4,
 "nbformat_minor": 5
}
